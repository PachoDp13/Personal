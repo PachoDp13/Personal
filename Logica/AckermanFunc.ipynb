{
 "cells": [
  {
   "cell_type": "code",
   "execution_count": 1,
   "metadata": {},
   "outputs": [],
   "source": [
    "import numpy as np\n",
    "import sys\n",
    "from IPython.display import display, Latex"
   ]
  },
  {
   "cell_type": "code",
   "execution_count": 3,
   "metadata": {},
   "outputs": [
    {
     "ename": "SyntaxError",
     "evalue": "invalid syntax (<ipython-input-3-d3bfc748244a>, line 1)",
     "output_type": "error",
     "traceback": [
      "\u001b[1;36m  File \u001b[1;32m\"<ipython-input-3-d3bfc748244a>\"\u001b[1;36m, line \u001b[1;32m1\u001b[0m\n\u001b[1;33m    jupyter notebook --NotebookApp.iopub_data_rate_limit=1.0e10\u001b[0m\n\u001b[1;37m            ^\u001b[0m\n\u001b[1;31mSyntaxError\u001b[0m\u001b[1;31m:\u001b[0m invalid syntax\n"
     ]
    }
   ],
   "source": [
    "jupyter notebook --NotebookApp.iopub_data_rate_limit=1.0e10"
   ]
  },
  {
   "cell_type": "code",
   "execution_count": null,
   "metadata": {},
   "outputs": [],
   "source": [
    "sys.setrecursionlimit(10000)\n",
    "\n",
    "def FAckermann(x, y ):\n",
    "    if x == 0:\n",
    "        return 2**y\n",
    "    if y == 0:\n",
    "        return 1\n",
    "\n",
    "    t = FAckermann(x, y - 1)\n",
    "    return FAckermann(x - 1, t)\n",
    "\n",
    "print(FAckermann(2, 4) )"
   ]
  },
  {
   "cell_type": "code",
   "execution_count": null,
   "metadata": {},
   "outputs": [],
   "source": [
    "sys.setrecursionlimit(100000)\n",
    "\n",
    "def FAckermann(x, y, step):\n",
    "    #display(Latex(step % (r\"$\\xi$\"+\"(%d,%d)\" % (x, y))))\n",
    "    #print(step)\n",
    "    #step +=1\n",
    "    \n",
    "    if x == 0:\n",
    "        return 2**y\n",
    "    if y == 0:\n",
    "        return 1\n",
    "    #t = FAckermann(x, y - 1, step % (r\"$\\xi$\"+\"(%d,%%s)\" % (x - 1)))\n",
    "    \n",
    "    t = FAckermann(x, y - 1, step)\n",
    "    return FAckermann(x - 1, t, step)\n",
    "\n",
    "print(FAckermann(2, 4, 0))"
   ]
  },
  {
   "cell_type": "code",
   "execution_count": null,
   "metadata": {},
   "outputs": [],
   "source": [
    "def A(m, n, s=\"%s\"):\n",
    "    print (s % (\"A(%d,%d)\" % (m, n)))\n",
    "    if m == 0:\n",
    "        return 2**n\n",
    "    if n == 0:\n",
    "        return 1\n",
    "    n2 = A(m, n - 1, s % (\"A(%d,%%s)\" % (m - 1)))\n",
    "    return A(m - 1, n2, s)\n",
    "for i in range(5):\n",
    "    print (A(2,i))"
   ]
  }
 ],
 "metadata": {
  "kernelspec": {
   "display_name": "Python 3",
   "language": "python",
   "name": "python3"
  },
  "language_info": {
   "codemirror_mode": {
    "name": "ipython",
    "version": 3
   },
   "file_extension": ".py",
   "mimetype": "text/x-python",
   "name": "python",
   "nbconvert_exporter": "python",
   "pygments_lexer": "ipython3",
   "version": "3.8.5"
  }
 },
 "nbformat": 4,
 "nbformat_minor": 4
}
