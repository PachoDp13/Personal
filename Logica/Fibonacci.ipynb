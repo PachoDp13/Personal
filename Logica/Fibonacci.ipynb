{
 "cells": [
  {
   "cell_type": "code",
   "execution_count": 14,
   "metadata": {},
   "outputs": [
    {
     "name": "stdout",
     "output_type": "stream",
     "text": [
      "4.0 4.0\n",
      "8.0 8.0\n",
      "18.0 18.0\n",
      "41.0 41.0\n",
      "99.0 99.0\n",
      "244.0 244.0\n",
      "616.0 616.0\n",
      "1574.0 1574.0\n",
      "4060.0 4060.0\n",
      "10529.0 10529.0\n",
      "1 1\n",
      "1 1\n",
      "2 2\n",
      "3 3\n",
      "5 5\n",
      "8 8\n",
      "13 13\n",
      "21 21\n",
      "34 34\n",
      "55 55\n"
     ]
    }
   ],
   "source": [
    "def f(x,y):\n",
    "    a = (x+y)*(x+y+1)*(1/2)\n",
    "    return a + y\n",
    "\n",
    "def g1(x):\n",
    "    x = int(x)\n",
    "    for t in range(x+1):\n",
    "        for z in range(x+1):\n",
    "            if (f(t,z) == x):\n",
    "                return t\n",
    "def g2(x):\n",
    "    x = int(x)\n",
    "    for t in range(x+1):\n",
    "        for z in range(x+1):\n",
    "            if (f(z,t) == x):\n",
    "                return t\n",
    "def Fibonacci(n):\n",
    "    if n==0 or n==1:\n",
    "        return 1\n",
    "    else:\n",
    "        return Fibonacci(n-1)+Fibonacci(n-2)\n",
    "    \n",
    "def G(n):\n",
    "    if n==0:\n",
    "        return f(1,1)\n",
    "    else:\n",
    "        return f( g2(G(n-1)) , g1(G(n-1)) + g2(G(n-1)) )\n",
    "                \n",
    "def GTest(n):\n",
    "    return f(Fibonacci(n), Fibonacci(n+1))\n",
    "\n",
    "Ntest = int(10)\n",
    "\n",
    "for i in range(Ntest):\n",
    "    print(G(i), GTest(i))\n",
    "    \n",
    "for i in range(Ntest):\n",
    "    print(g1(G(i)),Fibonacci(i))                "
   ]
  }
 ],
 "metadata": {
  "kernelspec": {
   "display_name": "Python 3",
   "language": "python",
   "name": "python3"
  },
  "language_info": {
   "codemirror_mode": {
    "name": "ipython",
    "version": 3
   },
   "file_extension": ".py",
   "mimetype": "text/x-python",
   "name": "python",
   "nbconvert_exporter": "python",
   "pygments_lexer": "ipython3",
   "version": "3.8.5"
  }
 },
 "nbformat": 4,
 "nbformat_minor": 4
}
